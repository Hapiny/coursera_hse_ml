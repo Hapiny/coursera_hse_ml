{
 "cells": [
  {
   "cell_type": "code",
   "execution_count": 1,
   "metadata": {},
   "outputs": [],
   "source": [
    "import numpy as np"
   ]
  },
  {
   "cell_type": "code",
   "execution_count": 2,
   "metadata": {},
   "outputs": [
    {
     "name": "stdout",
     "output_type": "stream",
     "text": [
      "[[ -1.34401097   7.79007328  -6.64280945   4.05618601]\n",
      " [ -4.32831864  -1.30019098   8.00933678   9.74992515]\n",
      " [  6.22373286   6.21156308   8.10746267   7.7187554 ]\n",
      " [  0.47715028   0.64564725  -0.63478761   9.07729173]\n",
      " [  8.99362643  -7.18909099 -13.80299446  -1.94688258]\n",
      " [ 16.83584467  20.33450917   1.71638748   3.79442396]\n",
      " [ -5.47618883  -5.90769936  -6.40214554  20.20159069]\n",
      " [ 12.39191583  17.79714451   6.95288137   0.67841526]\n",
      " [-12.05634731   3.70081406 -15.69705942  24.8214617 ]\n",
      " [ 15.35721193 -15.31199922   8.29180828 -10.62192716]]\n"
     ]
    }
   ],
   "source": [
    "X = np.random.normal(loc=1, scale=10, size=(10,4))\n",
    "print X"
   ]
  },
  {
   "cell_type": "code",
   "execution_count": 3,
   "metadata": {},
   "outputs": [],
   "source": [
    "X_norm = ((X - np.mean(X,axis=0)) / np.std(X,axis=0))"
   ]
  },
  {
   "cell_type": "code",
   "execution_count": 4,
   "metadata": {},
   "outputs": [],
   "source": [
    "index = [i for i in range(X.shape[0]) if np.sum(X,axis=1)[i] > 10]"
   ]
  },
  {
   "cell_type": "code",
   "execution_count": 5,
   "metadata": {},
   "outputs": [
    {
     "data": {
      "text/plain": [
       "[1, 2, 5, 7]"
      ]
     },
     "execution_count": 5,
     "metadata": {},
     "output_type": "execute_result"
    }
   ],
   "source": [
    "index"
   ]
  },
  {
   "cell_type": "code",
   "execution_count": 6,
   "metadata": {},
   "outputs": [
    {
     "name": "stdout",
     "output_type": "stream",
     "text": [
      "(array([1, 2, 5, 7]),)\n"
     ]
    }
   ],
   "source": [
    "print np.nonzero(np.sum(X,axis=1) > 10)"
   ]
  },
  {
   "cell_type": "code",
   "execution_count": 7,
   "metadata": {},
   "outputs": [],
   "source": [
    "A = np.eye(3)\n",
    "B = np.eye(3)"
   ]
  },
  {
   "cell_type": "code",
   "execution_count": 8,
   "metadata": {},
   "outputs": [
    {
     "name": "stdout",
     "output_type": "stream",
     "text": [
      "[[1. 0. 0.]\n",
      " [0. 1. 0.]\n",
      " [0. 0. 1.]\n",
      " [1. 0. 0.]\n",
      " [0. 1. 0.]\n",
      " [0. 0. 1.]]\n"
     ]
    }
   ],
   "source": [
    "AB = np.vstack((A, B))\n",
    "print AB"
   ]
  },
  {
   "cell_type": "code",
   "execution_count": 9,
   "metadata": {},
   "outputs": [
    {
     "data": {
      "text/plain": [
       "array([[1., 0., 0., 1., 0., 0.],\n",
       "       [0., 1., 0., 0., 1., 0.],\n",
       "       [0., 0., 1., 0., 0., 1.]])"
      ]
     },
     "execution_count": 9,
     "metadata": {},
     "output_type": "execute_result"
    }
   ],
   "source": [
    "np.hstack((A,B))"
   ]
  }
 ],
 "metadata": {
  "kernelspec": {
   "display_name": "Python 2",
   "language": "python",
   "name": "python2"
  },
  "language_info": {
   "codemirror_mode": {
    "name": "ipython",
    "version": 2
   },
   "file_extension": ".py",
   "mimetype": "text/x-python",
   "name": "python",
   "nbconvert_exporter": "python",
   "pygments_lexer": "ipython2",
   "version": "2.7.12"
  }
 },
 "nbformat": 4,
 "nbformat_minor": 2
}
