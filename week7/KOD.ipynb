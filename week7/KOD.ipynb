# -*- coding: utf-8 -*-
"""
Created on Tue Aug  7 23:23:48 2018

@author: User
"""

import pandas
import sklearn.cross_validation
import sklearn.ensemble
import sklearn.metrics
import sklearn.preprocessing
import time
import numpy as np

"1"
features = pandas.read_csv('./features.csv', index_col='match_id')
X = features.ix[:,:-6]
X.head()
skips = len(X) - X.count()
skips[skips > 0]
X = X.fillna(0)
X.head()
y = features['radiant_win']
y.head()
fold = sklearn.cross_validation.KFold(n=len(X), n_folds=5, random_state=1, shuffle=True)
for estimator in (10,20,30,40):
    clf = sklearn.ensemble.GradientBoostingClassifier(n_estimators=estimator, random_state=1)
    start = time.time()
    res = sklearn.cross_validation.cross_val_score(clf, X=X, y=y, cv=fold, scoring='roc_auc')
    print("Trees = {}, mean = {}, time = {}".format(estimator, res.mean(), time.time()-start))
    
    
    
"2"
def drop_from(X):
    drops = ["{}{}_hero".format(c, i) for c in 'rd' for i in range(1,6)]
    X2 = X.drop('lobby_type', axis=1).drop(drops, axis=1)
    return X2


def pick_from(X):
    X_pick = np.zeros((X.shape[0], unique_heroes))
    for i, match_id in enumerate(X.index):
        for p in range(1,6):
            X_pick[i, np.where(heroes == X.ix[match_id, 'r%d_hero' % p])] = 1
            X_pick[i, np.where(heroes == X.ix[match_id, 'd%d_hero' % p])] = -1
    return X_pick

XX = sklearn.preprocessing.StandardScaler().fit_transform(X)
fold = sklearn.cross_validation.KFold(n=len(XX), n_folds=5, random_state=1, shuffle=True)
clf = sklearn.linear_model.LogisticRegression()
grid = {'C': np.linspace(0.001,1,20)}
gs = sklearn.grid_search.GridSearchCV(clf, grid, scoring='roc_auc', cv=fold, n_jobs=8)
gs.fit(XX, y)
for score in gs.grid_scores_:
    print("Quality {} for {}".format(score.mean_validation_score, score.parameters))
print("Best param: ", gs.best_params_)

X2 = drop_from(X)
X2.head()


XX2 = sklearn.preprocessing.StandardScaler().fit_transform(X2)

fold = sklearn.cross_validation.KFold(n=len(XX2), n_folds=5, random_state=1, shuffle=True)
clf = sklearn.linear_model.LogisticRegression()
grid = {'C': np.linspace(0.001,1,20)}
gs = sklearn.grid_search.GridSearchCV(clf, grid, scoring='roc_auc', cv=fold, n_jobs=8)
gs.fit(XX2, y)
for score in gs.grid_scores_:
    print("Quality {} for {}".format(score.mean_validation_score, score.parameters))
print("Best param: ", gs.best_params_)
heroes = np.unique(features[drops].fillna(0))
unique_heroes = len(heroes)
unique_heroes


X_pick = pick_from(X)
X_pick

X4 = X2.join(pandas.DataFrame(X_pick, index=features.index))
X4.head()

XX4 = sklearn.preprocessing.StandardScaler().fit_transform(X4)

fold = sklearn.cross_validation.KFold(n=len(XX4), n_folds=5, random_state=1, shuffle=True)
clf = sklearn.linear_model.LogisticRegression()
grid = {'C': np.linspace(0.001,1,20)}
gs = sklearn.grid_search.GridSearchCV(clf, grid, scoring='roc_auc', cv=fold, n_jobs=8)
gs.fit(XX4, y)
for score in gs.grid_scores_:
    print("Quality {} for {}".format(score.mean_validation_score, score.parameters))
print("Best param: ", gs.best_params_)

features_test = pandas.read_csv('./features_test.csv', index_col='match_id')
X_test = features_test
X_test = X_test.fillna(0)
X2_test = drop_from(X_test)
X4_test = X2_test.join(pandas.DataFrame(pick_from(X_test), index=features_test.index))
X4_test.head()

XX4 = sklearn.preprocessing.StandardScaler().fit_transform(X4)
logreg = sklearn.linear_model.LogisticRegression(C=gs.best_params_['C'])
logreg.fit(XX4, y)

XX4_test = sklearn.preprocessing.StandardScaler().fit_transform(X4_test)
res = logreg.predict_proba(XX4_test)
print(res.min(), res.max())
print(res)