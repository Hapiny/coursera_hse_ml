{
 "cells": [
  {
   "cell_type": "code",
   "execution_count": 1,
   "metadata": {
    "scrolled": true
   },
   "outputs": [],
   "source": [
    "import pandas as pd\n",
    "import numpy as np\n",
    "import datetime\n",
    "import time\n",
    "from tqdm import tqdm\n",
    "\n",
    "train_data = pd.read_csv('features.csv',index_col='match_id')\n",
    "test_data = pd.read_csv('features_test.csv',index_col='match_id')"
   ]
  },
  {
   "cell_type": "code",
   "execution_count": 2,
   "metadata": {},
   "outputs": [
    {
     "data": {
      "text/plain": [
       "['first_blood_time',\n",
       " 'first_blood_team',\n",
       " 'first_blood_player1',\n",
       " 'first_blood_player2',\n",
       " 'radiant_bottle_time',\n",
       " 'radiant_courier_time',\n",
       " 'radiant_flying_courier_time',\n",
       " 'radiant_first_ward_time',\n",
       " 'dire_bottle_time',\n",
       " 'dire_courier_time',\n",
       " 'dire_flying_courier_time',\n",
       " 'dire_first_ward_time']"
      ]
     },
     "execution_count": 2,
     "metadata": {},
     "output_type": "execute_result"
    }
   ],
   "source": [
    "columns_with_nan = train_data.columns[train_data.isna().any()].tolist()\n",
    "columns_with_nan"
   ]
  },
  {
   "cell_type": "code",
   "execution_count": 3,
   "metadata": {
    "scrolled": true
   },
   "outputs": [],
   "source": [
    "for column in columns_with_nan:\n",
    "    train_data[column].fillna(0, inplace=True)\n",
    "    test_data[column].fillna(0, inplace=True)\n",
    "    \n",
    "x_train = train_data.values[:,1:-6]\n",
    "y_train = train_data.values[:,-5]"
   ]
  },
  {
   "cell_type": "code",
   "execution_count": 8,
   "metadata": {
    "scrolled": true
   },
   "outputs": [
    {
     "name": "stdout",
     "output_type": "stream",
     "text": [
      "      Iter       Train Loss   Remaining Time \n",
      "         1           1.3786           44.64s\n",
      "         2           1.3732           44.18s\n",
      "         3           1.3681           43.72s\n",
      "         4           1.3636           43.18s\n",
      "         5           1.3589           41.77s\n",
      "         6           1.3547           41.62s\n",
      "         7           1.3502           41.05s\n",
      "         8           1.3461           39.94s\n",
      "         9           1.3422           39.09s\n",
      "        10           1.3385           38.49s\n",
      "        20           1.3092           33.59s\n",
      "        30           1.2892           29.07s\n",
      "        40           1.2747           25.07s\n",
      "        50           1.2638           20.86s\n",
      "        60           1.2549           16.88s\n",
      "        70           1.2477           12.75s\n",
      "        80           1.2419            8.52s\n",
      "        90           1.2367            4.32s\n",
      "       100           1.2322            0.00s\n",
      "      Iter       Train Loss   Remaining Time \n",
      "      Iter       Train Loss   Remaining Time \n",
      "      Iter       Train Loss   Remaining Time \n",
      "      Iter       Train Loss   Remaining Time \n",
      "         1           1.3786            2.18m\n",
      "         1           1.3781            2.10m\n",
      "         1           1.3787            2.15m\n",
      "         1           1.3784            2.15m\n",
      "         2           1.3725            2.06m\n",
      "         2           1.3729            2.29m\n",
      "         2           1.3731            2.20m\n",
      "         2           1.3729            2.18m\n",
      "         3           1.3680            2.22m\n",
      "         3           1.3673            2.08m\n",
      "         3           1.3681            2.17m\n",
      "         3           1.3679            2.13m\n",
      "         4           1.3636            2.13m\n",
      "         4           1.3629            2.14m\n",
      "         4           1.3637            2.14m\n",
      "         4           1.3632            2.09m\n",
      "         5           1.3592            2.10m\n",
      "         5           1.3581            2.14m\n",
      "         5           1.3584            2.06m\n",
      "         5           1.3592            2.14m\n",
      "         6           1.3546            2.11m\n",
      "         6           1.3534            2.09m\n",
      "         6           1.3537            2.04m\n",
      "         6           1.3546            2.13m\n",
      "         7           1.3502            2.10m\n",
      "         7           1.3487            2.04m\n",
      "         7           1.3497            2.01m\n",
      "         7           1.3498            2.10m\n",
      "         8           1.3445            2.01m\n",
      "         8           1.3461            2.08m\n",
      "         8           1.3455            1.97m\n",
      "         8           1.3455            2.08m\n",
      "         9           1.3419            2.03m\n",
      "         9           1.3408            1.99m\n",
      "         9           1.3414            1.98m\n",
      "         9           1.3416            2.06m\n",
      "        10           1.3381            1.99m\n",
      "        10           1.3368            1.96m\n",
      "        10           1.3376            1.98m\n",
      "        10           1.3377            2.03m\n",
      "        20           1.3090            1.82m\n",
      "        20           1.3067            1.86m\n",
      "        20           1.3078            1.84m\n",
      "        20           1.3077            1.88m\n",
      "        30           1.2875            1.59m\n",
      "        30           1.2876            1.62m\n",
      "        30           1.2890            1.65m\n",
      "        30           1.2865            1.64m\n",
      "        40           1.2727            1.33m\n",
      "        40           1.2729            1.37m\n",
      "        40           1.2721            1.38m\n",
      "        40           1.2745            1.40m\n",
      "        50           1.2614            1.10m\n",
      "        50           1.2613            1.13m\n",
      "        50           1.2606            1.13m\n",
      "        50           1.2632            1.17m\n",
      "        60           1.2521           53.10s\n",
      "        60           1.2527           53.69s\n",
      "        60           1.2516           54.02s\n",
      "        60           1.2542           55.44s\n",
      "        70           1.2447           39.82s\n",
      "        70           1.2452           40.13s\n",
      "        70           1.2442           41.13s\n",
      "        70           1.2468           41.83s\n",
      "        80           1.2385           26.68s\n",
      "        80           1.2391           26.86s\n",
      "        80           1.2378           27.84s\n",
      "        80           1.2405           28.33s\n",
      "        90           1.2337           13.50s\n",
      "        90           1.2331           13.56s\n",
      "        90           1.2325           14.15s\n",
      "        90           1.2352           14.33s\n",
      "       100           1.2283            0.00s\n",
      "       100           1.2291            0.00s\n",
      "      Iter       Train Loss   Remaining Time \n",
      "         1           1.3787            1.72m\n",
      "         2           1.3732            1.70m\n",
      "       100           1.2279            0.00s\n",
      "       100           1.2305            0.00s\n",
      "         3           1.3682            1.66m\n",
      "         4           1.3637            1.45m\n",
      "         5           1.3589            1.30m\n",
      "         6           1.3548            1.21m\n",
      "         7           1.3502            1.14m\n",
      "         8           1.3459            1.08m\n",
      "         9           1.3420            1.03m\n",
      "        10           1.3382           59.64s\n",
      "        20           1.3085           47.44s\n",
      "        30           1.2888           39.53s\n",
      "        40           1.2738           32.93s\n",
      "        50           1.2625           27.00s\n",
      "        60           1.2535           21.40s\n",
      "        70           1.2461           15.91s\n",
      "        80           1.2400           10.52s\n",
      "        90           1.2347            5.24s\n",
      "       100           1.2301            0.00s\n"
     ]
    },
    {
     "data": {
      "text/plain": [
       "array([0.71219933, 0.70326703, 0.70381082, 0.70474676, 0.70898779])"
      ]
     },
     "execution_count": 8,
     "metadata": {},
     "output_type": "execute_result"
    }
   ],
   "source": [
    "from sklearn.ensemble import GradientBoostingClassifier\n",
    "from sklearn.model_selection import KFold, cross_val_score\n",
    "\n",
    "splitter = KFold(n_splits=5, random_state=241, shuffle=True)\n",
    "clf = GradientBoostingClassifier(n_estimators=100,learning_rate=0.1,verbose=True,random_state=241)\n",
    "clf.fit(x_train, y_train)\n",
    "result = cross_val_score(estimator=clf, X=x_train, y=y_train, scoring='roc_auc' ,cv=splitter,n_jobs=-1)\n",
    "\n",
    "result"
   ]
  }
 ],
 "metadata": {
  "kernelspec": {
   "display_name": "Python 3",
   "language": "python",
   "name": "python3"
  },
  "language_info": {
   "codemirror_mode": {
    "name": "ipython",
    "version": 3
   },
   "file_extension": ".py",
   "mimetype": "text/x-python",
   "name": "python",
   "nbconvert_exporter": "python",
   "pygments_lexer": "ipython3",
   "version": "3.6.5"
  }
 },
 "nbformat": 4,
 "nbformat_minor": 2
}
