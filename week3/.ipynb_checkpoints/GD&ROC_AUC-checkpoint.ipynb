{
 "cells": [
  {
   "cell_type": "code",
   "execution_count": 1,
   "metadata": {},
   "outputs": [],
   "source": [
    "import pandas as pd\n",
    "import numpy as np\n",
    "from sklearn.metrics import roc_auc_score\n",
    "\n",
    "data = pd.read_csv('data-logistic.csv').values\n",
    "y = np.array(data[:,0]).reshape(len(data),1)\n",
    "x = np.array(data[:,1:]).reshape(len(data),2)"
   ]
  },
  {
   "cell_type": "code",
   "execution_count": 2,
   "metadata": {},
   "outputs": [],
   "source": [
    "def cost_function(x,y,w,c=0):\n",
    "    return (1/len(y))*np.sum((np.log(1+np.exp(np.multiply(-y,np.dot(x,w)))))) + 0.5*c*(np.linalg.norm(w) ** 2) \n",
    "\n",
    "def grad_step(w,lr=0.1,c=0):\n",
    "    new_w1 = w[0] - lr*c*w[0] + (lr/len(y))*np.sum(np.multiply(y,np.multiply(x[:,0:1],(1-1/(1+np.exp(np.multiply(-y,np.dot(x,w))))))))\n",
    "    new_w2 = w[1] - lr*c*w[1] + (lr/len(y))*np.sum(np.multiply(y,np.multiply(x[:,1:],(1-1/(1+np.exp(np.multiply(-y,np.dot(x,w))))))))\n",
    "    return np.array([new_w1, new_w2]).reshape(2,1)"
   ]
  },
  {
   "cell_type": "code",
   "execution_count": 3,
   "metadata": {},
   "outputs": [],
   "source": [
    "def fit(w,lr,c=0,eps=1e-5):\n",
    "    for iter in range(10000):\n",
    "        old_cost = cost_function(x,y,w,c=c)\n",
    "        print('Iter: %d, cost: %f, w: %f %f' % (iter, old_cost, w[0], w[1]))\n",
    "        if old_cost > eps:\n",
    "            w = grad_step(w,lr=lr,c=c)\n",
    "        else:\n",
    "            break\n",
    "        if round(old_cost,5) == round(cost_function(x,y,w,c=c),5):\n",
    "            break\n",
    "    return w\n",
    "\n",
    "def get_prob(x,w):\n",
    "    return 1/(1+np.exp(np.dot(x,w)))"
   ]
  },
  {
   "cell_type": "code",
   "execution_count": 4,
   "metadata": {},
   "outputs": [],
   "source": [
    "res1 = round(0.9311428571428569,3)\n",
    "res2 = round(0.9363809523809523,3)"
   ]
  },
  {
   "cell_type": "code",
   "execution_count": 7,
   "metadata": {
    "scrolled": true
   },
   "outputs": [
    {
     "name": "stdout",
     "output_type": "stream",
     "text": [
      "Iter: 0, cost: 0.693147, w: 0.000000 0.000000\n",
      "Iter: 1, cost: 0.673091, w: 0.035731 0.032460\n",
      "Iter: 2, cost: 0.662263, w: 0.062430 0.055213\n",
      "Iter: 3, cost: 0.655757, w: 0.083434 0.072025\n",
      "Iter: 4, cost: 0.651506, w: 0.100673 0.085030\n",
      "Iter: 5, cost: 0.648569, w: 0.115222 0.095385\n",
      "Iter: 6, cost: 0.646465, w: 0.127737 0.103779\n",
      "Iter: 7, cost: 0.644915, w: 0.138648 0.110653\n",
      "Iter: 8, cost: 0.643751, w: 0.148259 0.116315\n",
      "Iter: 9, cost: 0.642862, w: 0.156794 0.120991\n",
      "Iter: 10, cost: 0.642173, w: 0.164424 0.124850\n",
      "Iter: 11, cost: 0.641634, w: 0.171284 0.128025\n",
      "Iter: 12, cost: 0.641206, w: 0.177483 0.130623\n",
      "Iter: 13, cost: 0.640864, w: 0.183108 0.132731\n",
      "Iter: 14, cost: 0.640587, w: 0.188234 0.134420\n",
      "Iter: 15, cost: 0.640361, w: 0.192923 0.135751\n",
      "Iter: 16, cost: 0.640174, w: 0.197225 0.136773\n",
      "Iter: 17, cost: 0.640018, w: 0.201187 0.137529\n",
      "Iter: 18, cost: 0.639887, w: 0.204845 0.138056\n",
      "Iter: 19, cost: 0.639775, w: 0.208234 0.138385\n",
      "Iter: 20, cost: 0.639680, w: 0.211382 0.138544\n",
      "Iter: 21, cost: 0.639596, w: 0.214313 0.138556\n",
      "Iter: 22, cost: 0.639524, w: 0.217051 0.138440\n",
      "Iter: 23, cost: 0.639459, w: 0.219613 0.138216\n",
      "Iter: 24, cost: 0.639402, w: 0.222017 0.137898\n",
      "Iter: 25, cost: 0.639351, w: 0.224277 0.137500\n",
      "Iter: 26, cost: 0.639304, w: 0.226408 0.137034\n",
      "Iter: 27, cost: 0.639262, w: 0.228420 0.136510\n",
      "Iter: 28, cost: 0.639223, w: 0.230325 0.135937\n",
      "Iter: 29, cost: 0.639188, w: 0.232131 0.135324\n",
      "Iter: 30, cost: 0.639155, w: 0.233846 0.134677\n",
      "Iter: 31, cost: 0.639124, w: 0.235479 0.134002\n",
      "Iter: 32, cost: 0.639096, w: 0.237035 0.133305\n",
      "Iter: 33, cost: 0.639069, w: 0.238521 0.132591\n",
      "Iter: 34, cost: 0.639044, w: 0.239942 0.131863\n",
      "Iter: 35, cost: 0.639020, w: 0.241302 0.131126\n",
      "Iter: 36, cost: 0.638998, w: 0.242607 0.130382\n",
      "Iter: 37, cost: 0.638977, w: 0.243859 0.129635\n",
      "Iter: 38, cost: 0.638957, w: 0.245064 0.128886\n",
      "Iter: 39, cost: 0.638938, w: 0.246222 0.128138\n",
      "Iter: 40, cost: 0.638921, w: 0.247339 0.127393\n",
      "Iter: 41, cost: 0.638904, w: 0.248415 0.126652\n",
      "Iter: 42, cost: 0.638888, w: 0.249454 0.125916\n",
      "Iter: 43, cost: 0.638873, w: 0.250458 0.125188\n",
      "Iter: 44, cost: 0.638858, w: 0.251429 0.124467\n",
      "Iter: 45, cost: 0.638844, w: 0.252368 0.123755\n",
      "Iter: 46, cost: 0.638831, w: 0.253277 0.123052\n",
      "Iter: 47, cost: 0.638819, w: 0.254158 0.122359\n",
      "Iter: 48, cost: 0.638807, w: 0.255012 0.121677\n",
      "Iter: 49, cost: 0.638796, w: 0.255841 0.121006\n",
      "Iter: 50, cost: 0.638785, w: 0.256645 0.120345\n",
      "Iter: 51, cost: 0.638775, w: 0.257426 0.119697\n",
      "Iter: 52, cost: 0.638765, w: 0.258184 0.119060\n",
      "Iter: 53, cost: 0.638756, w: 0.258921 0.118435\n",
      "Iter: 54, cost: 0.638747, w: 0.259638 0.117822\n",
      "Iter: 55, cost: 0.638739, w: 0.260334 0.117220\n",
      "Iter: 56, cost: 0.638731, w: 0.261012 0.116631\n",
      "Iter: 57, cost: 0.638723, w: 0.261672 0.116054\n"
     ]
    },
    {
     "data": {
      "text/plain": [
       "0.5"
      ]
     },
     "execution_count": 7,
     "metadata": {},
     "output_type": "execute_result"
    }
   ],
   "source": [
    "w = np.array([0,0]).reshape(2,1)\n",
    "lr, c = 0.1, 10\n",
    "w = fit(w=w, lr=lr, c=0)\n",
    "roc_auc_score(y, get_prob(x,w))"
   ]
  },
  {
   "cell_type": "code",
   "execution_count": 6,
   "metadata": {},
   "outputs": [
    {
     "name": "stdout",
     "output_type": "stream",
     "text": [
      "Iter: 0, cost: 0.693147, w: 0.000000 0.000000\n",
      "Iter: 1, cost: 0.684743, w: 0.035731 0.032460\n",
      "Iter: 2, cost: 0.684094, w: 0.026699 0.022754\n",
      "Iter: 3, cost: 0.684049, w: 0.029057 0.025326\n"
     ]
    },
    {
     "data": {
      "text/plain": [
       "0.5"
      ]
     },
     "execution_count": 6,
     "metadata": {},
     "output_type": "execute_result"
    }
   ],
   "source": [
    "w = np.array([0,0]).reshape(2,1)\n",
    "lr, c = 0.1, 10\n",
    "w = fit(w=w, lr=lr, c=c)\n",
    "roc_auc_score(y, get_prob(x,w))"
   ]
  },
  {
   "cell_type": "code",
   "execution_count": null,
   "metadata": {},
   "outputs": [],
   "source": []
  }
 ],
 "metadata": {
  "kernelspec": {
   "display_name": "Python 3",
   "language": "python",
   "name": "python3"
  },
  "language_info": {
   "codemirror_mode": {
    "name": "ipython",
    "version": 3
   },
   "file_extension": ".py",
   "mimetype": "text/x-python",
   "name": "python",
   "nbconvert_exporter": "python",
   "pygments_lexer": "ipython3",
   "version": "3.6.5"
  }
 },
 "nbformat": 4,
 "nbformat_minor": 2
}
