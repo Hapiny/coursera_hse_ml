{
 "cells": [
  {
   "cell_type": "code",
   "execution_count": 1,
   "metadata": {},
   "outputs": [],
   "source": [
    "from sklearn.neighbors import KNeighborsClassifier\n",
    "from sklearn.model_selection import KFold, cross_val_score\n",
    "import numpy as np\n",
    "from sklearn.preprocessing import scale"
   ]
  },
  {
   "cell_type": "code",
   "execution_count": 2,
   "metadata": {},
   "outputs": [],
   "source": [
    "splitter = KFold(n_splits=5, random_state=42, shuffle=True)\n",
    "with open('wine.data.txt','r') as f:\n",
    "    data = f.read().split('\\n')\n",
    "data = np.array([float(elem) for row in data for elem in row.split(',')]).reshape(178,14)\n",
    "x = data[:,1:]\n",
    "y = data[:,0]"
   ]
  },
  {
   "cell_type": "code",
   "execution_count": 3,
   "metadata": {
    "scrolled": true
   },
   "outputs": [
    {
     "name": "stdout",
     "output_type": "stream",
     "text": [
      "acc=0.88 k=3\n"
     ]
    }
   ],
   "source": [
    "results = []\n",
    "for k in range(1,51):\n",
    "    clf = KNeighborsClassifier(n_neighbors=k)\n",
    "    clf.fit(x,y)\n",
    "    result = cross_val_score(estimator=clf, X=x, y=y, cv=splitter)\n",
    "    results.append(np.sum(result) / 5.0)\n",
    "\n",
    "print('acc=%.2f k=%d' % (np.max(results), np.argmax(results)+1))"
   ]
  },
  {
   "cell_type": "code",
   "execution_count": 13,
   "metadata": {},
   "outputs": [
    {
     "data": {
      "text/plain": [
       "array([ 14.23,   1.71,   2.43,  15.6 , 127.  ,   2.8 ,   3.06,   0.28,\n",
       "         2.29,   5.64,   1.04,   3.92])"
      ]
     },
     "execution_count": 13,
     "metadata": {},
     "output_type": "execute_result"
    }
   ],
   "source": [
    "x[0]"
   ]
  }
 ],
 "metadata": {
  "kernelspec": {
   "display_name": "Python 2",
   "language": "python",
   "name": "python2"
  },
  "language_info": {
   "codemirror_mode": {
    "name": "ipython",
    "version": 3
   },
   "file_extension": ".py",
   "mimetype": "text/x-python",
   "name": "python",
   "nbconvert_exporter": "python",
   "pygments_lexer": "ipython3",
   "version": "3.5.2"
  }
 },
 "nbformat": 4,
 "nbformat_minor": 2
}
