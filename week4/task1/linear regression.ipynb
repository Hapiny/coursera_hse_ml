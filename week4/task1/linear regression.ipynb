{
 "cells": [
  {
   "cell_type": "code",
   "execution_count": 1,
   "metadata": {},
   "outputs": [],
   "source": [
    "import pandas as pd\n",
    "from sklearn.feature_extraction import DictVectorizer \n",
    "from sklearn.feature_extraction.text import TfidfVectorizer\n",
    "import re\n",
    "from scipy.sparse import hstack\n",
    "\n",
    "data_train = pd.read_csv('salary-train.csv')\n",
    "data_test = pd.read_csv('salary-test-mini.csv')"
   ]
  },
  {
   "cell_type": "code",
   "execution_count": 2,
   "metadata": {},
   "outputs": [],
   "source": [
    "# Приведение текстов к нижнему регистру\n",
    "data_train['FullDescription'] = [x.lower() for x in data_train['FullDescription']]\n",
    "data_train['LocationNormalized'] = [x.lower() for x in data_train['LocationNormalized']]\n",
    "\n",
    "data_test['FullDescription'] = [x.lower() for x in data_test['FullDescription']]\n",
    "data_test['LocationNormalized'] = [x.lower() for x in data_test['LocationNormalized']]\n",
    "\n",
    "\n",
    "# Замена символов не являющихся цифрами и буквами на пробелы\n",
    "data_train['FullDescription'] = data_train['FullDescription'].replace('[^a-zA-Z0-9]', ' ', regex = True)\n",
    "data_test['FullDescription'] = data_test['FullDescription'].replace('[^a-zA-Z0-9]', ' ', regex = True)\n",
    "\n",
    "X_train_text = data_train['FullDescription']\n",
    "X_test_text = data_test['FullDescription']\n",
    "\n",
    "# Перевод текстов в признаки через матрицу TF-IDF\n",
    "tf_idf_vectorizer = TfidfVectorizer(min_df=5)\n",
    "X_train_text = tf_idf_vectorizer.fit_transform(X_train_text)\n",
    "X_test_text = tf_idf_vectorizer.transform(X_test_text)\n",
    "\n",
    "# Замена NaN\n",
    "data_train['LocationNormalized'].fillna('nan', inplace=True)\n",
    "data_train['ContractTime'].fillna('nan', inplace=True)\n",
    "\n",
    "data_test['LocationNormalized'].fillna('nan', inplace=True)\n",
    "data_test['ContractTime'].fillna('nan', inplace=True)\n",
    "\n",
    "# one-hot кодирование категориальных признаков\n",
    "enc = DictVectorizer()\n",
    "X_train_categ = enc.fit_transform(data_train[['LocationNormalized', 'ContractTime']].to_dict('records'))\n",
    "X_test_categ = enc.transform(data_test[['LocationNormalized', 'ContractTime']].to_dict('records'))\n",
    "\n",
    "X_train = hstack([X_train_text, X_train_categ])\n",
    "Y_train = data_train['SalaryNormalized']\n",
    "\n",
    "X_test = hstack([X_test_text, X_test_categ])\n",
    "Y_test = data_test['SalaryNormalized']"
   ]
  },
  {
   "cell_type": "code",
   "execution_count": 3,
   "metadata": {},
   "outputs": [
    {
     "data": {
      "text/plain": [
       "Ridge(alpha=1, copy_X=True, fit_intercept=True, max_iter=None,\n",
       "   normalize=False, random_state=241, solver='auto', tol=0.001)"
      ]
     },
     "execution_count": 3,
     "metadata": {},
     "output_type": "execute_result"
    }
   ],
   "source": [
    "from sklearn.linear_model import Ridge\n",
    "clf = Ridge(alpha=1, random_state=241)\n",
    "clf.fit(X_train, Y_train)"
   ]
  },
  {
   "cell_type": "code",
   "execution_count": 5,
   "metadata": {},
   "outputs": [],
   "source": [
    "prediction = clf.predict(X_test)"
   ]
  },
  {
   "cell_type": "code",
   "execution_count": 8,
   "metadata": {},
   "outputs": [
    {
     "ename": "SyntaxError",
     "evalue": "invalid syntax (<ipython-input-8-5468e6363a98>, line 2)",
     "output_type": "error",
     "traceback": [
      "\u001b[0;36m  File \u001b[0;32m\"<ipython-input-8-5468e6363a98>\"\u001b[0;36m, line \u001b[0;32m2\u001b[0m\n\u001b[0;31m    print('%.2f', % pred)\u001b[0m\n\u001b[0m                  ^\u001b[0m\n\u001b[0;31mSyntaxError\u001b[0m\u001b[0;31m:\u001b[0m invalid syntax\n"
     ]
    }
   ],
   "source": [
    "for pred in prediction:\n",
    "    print('%.2f', % pred)"
   ]
  }
 ],
 "metadata": {
  "kernelspec": {
   "display_name": "Python 3",
   "language": "python",
   "name": "python3"
  },
  "language_info": {
   "codemirror_mode": {
    "name": "ipython",
    "version": 3
   },
   "file_extension": ".py",
   "mimetype": "text/x-python",
   "name": "python",
   "nbconvert_exporter": "python",
   "pygments_lexer": "ipython3",
   "version": "3.6.5"
  }
 },
 "nbformat": 4,
 "nbformat_minor": 2
}
